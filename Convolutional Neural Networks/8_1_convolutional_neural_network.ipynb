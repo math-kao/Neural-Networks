{
  "cells": [
    {
      "cell_type": "markdown",
      "metadata": {
        "id": "3DR-eO17geWu"
      },
      "source": [
        "# Convolutional Neural Network"
      ]
    },
    {
      "cell_type": "markdown",
      "metadata": {
        "id": "EMefrVPCg-60"
      },
      "source": [
        "### Importing the libraries"
      ]
    },
    {
      "cell_type": "code",
      "execution_count": 18,
      "metadata": {
        "id": "7fAZKkwEq1B_"
      },
      "outputs": [],
      "source": [
        "import pandas as pd\n",
        "import numpy as np\n",
        "import tensorflow as tf\n",
        "\n",
        "from keras.preprocessing.image import ImageDataGenerator"
      ]
    },
    {
      "cell_type": "code",
      "execution_count": 19,
      "metadata": {
        "colab": {
          "base_uri": "https://localhost:8080/",
          "height": 35
        },
        "id": "sZH93xtCuq-L",
        "outputId": "b0b0e981-a26d-4feb-fc6d-04f75ac6028a"
      },
      "outputs": [
        {
          "data": {
            "text/plain": [
              "'2.14.0'"
            ]
          },
          "execution_count": 19,
          "metadata": {},
          "output_type": "execute_result"
        }
      ],
      "source": [
        "tf.__version__"
      ]
    },
    {
      "cell_type": "markdown",
      "metadata": {
        "id": "oxQxCBWyoGPE"
      },
      "source": [
        "## Part 1 - Data Preprocessing"
      ]
    },
    {
      "cell_type": "markdown",
      "metadata": {
        "id": "MvE-heJNo3GG"
      },
      "source": [
        "### Preprocessing the Training set"
      ]
    },
    {
      "cell_type": "code",
      "execution_count": 20,
      "metadata": {
        "colab": {
          "base_uri": "https://localhost:8080/",
          "height": 407
        },
        "id": "cWFxAGESu2tf",
        "outputId": "82384063-751f-4ae6-cd0b-ad72ef4a6e2c"
      },
      "outputs": [
        {
          "name": "stdout",
          "output_type": "stream",
          "text": [
            "Found 8000 images belonging to 2 classes.\n"
          ]
        }
      ],
      "source": [
        "#transformationns on training set images- avoid OVERTTING\n",
        "#geometrical transformations,zoom. shifts, rotations, flips,\n",
        "#Image augmentation\n",
        "\n",
        "#rescale -Featurescaling\n",
        "train_datagen = ImageDataGenerator(\n",
        "        rescale=1./255,\n",
        "        shear_range=0.2,\n",
        "        zoom_range=0.2,\n",
        "        horizontal_flip=True)\n",
        "\n",
        "training_set = train_datagen.flow_from_directory(\n",
        "        'C:/Users/User/Downloads/dataset/dataset/training_set',\n",
        "        target_size=(64, 64), #size of images when they will be feed in CNN. 150 deixou mto lento o treino\n",
        "        batch_size=32,\n",
        "        class_mode='binary') #binary or categorical\n",
        "\n",
        "# 'C:/Users/User/Downloads/dataset/dataset/training_set'"
      ]
    },
    {
      "cell_type": "markdown",
      "metadata": {
        "id": "mrCMmGw9pHys"
      },
      "source": [
        "### Preprocessing the Test set"
      ]
    },
    {
      "cell_type": "code",
      "execution_count": 21,
      "metadata": {
        "id": "xfonenYxu3Pb"
      },
      "outputs": [
        {
          "name": "stdout",
          "output_type": "stream",
          "text": [
            "Found 2000 images belonging to 2 classes.\n"
          ]
        }
      ],
      "source": [
        "test_datagen = ImageDataGenerator(rescale=1./255) #new images, deployment model in production., only scale\n",
        "\n",
        "test_set = test_datagen.flow_from_directory(\n",
        "        'C:/Users/User/Downloads/dataset/dataset/test_set',\n",
        "        target_size=(64, 64),\n",
        "        batch_size=32,\n",
        "        class_mode='binary')"
      ]
    },
    {
      "cell_type": "markdown",
      "metadata": {
        "id": "af8O4l90gk7B"
      },
      "source": [
        "## Part 2 - Building the CNN"
      ]
    },
    {
      "cell_type": "markdown",
      "metadata": {
        "id": "ces1gXY2lmoX"
      },
      "source": [
        "### Initialising the CNN"
      ]
    },
    {
      "cell_type": "code",
      "execution_count": 22,
      "metadata": {
        "id": "AHoAaUi7zAbk"
      },
      "outputs": [],
      "source": [
        "cnn = tf.keras.models.Sequential()\n",
        "\n",
        "#adding layers"
      ]
    },
    {
      "cell_type": "markdown",
      "metadata": {
        "id": "u5YJj_XMl5LF"
      },
      "source": [
        "### Step 1 - Convolution"
      ]
    },
    {
      "cell_type": "code",
      "execution_count": 23,
      "metadata": {
        "id": "TaW0eKK2zK60"
      },
      "outputs": [],
      "source": [
        "cnn.add(tf.keras.layers.Conv2D(filters=32 , kernel_size=3,activation='relu',input_shape=[64,64,3])) #FILTERS How many features detectors we want- classic: 32| kernel size the size of detectors 3x3,activation= relu\n",
        "\n",
        "#se imagem preto/branca 64,64,1"
      ]
    },
    {
      "cell_type": "markdown",
      "metadata": {
        "id": "tf87FpvxmNOJ"
      },
      "source": [
        "### Step 2 - Pooling"
      ]
    },
    {
      "cell_type": "code",
      "execution_count": 24,
      "metadata": {
        "id": "qi0A6Gfy0ecq"
      },
      "outputs": [],
      "source": [
        "#aplying MAX pooling\n",
        "#adding pooling layers in convolutional layers\n",
        "cnn.add(tf.keras.layers.MaxPool2D(pool_size=2,strides=2)) #pool_size= tamanho do frame que pegamos do Feature Map| stride= o quanto vai andar; 2, max pulling.\n",
        "\n",
        "#padding param does not change final result"
      ]
    },
    {
      "cell_type": "markdown",
      "metadata": {
        "id": "xaTOgD8rm4mU"
      },
      "source": [
        "### Adding a second convolutional layer"
      ]
    },
    {
      "cell_type": "code",
      "execution_count": 25,
      "metadata": {
        "id": "omYu9FGf1SEJ"
      },
      "outputs": [],
      "source": [
        "cnn.add(tf.keras.layers.Conv2D(filters=32,kernel_size=3,activation='relu')) #second layer does not NEED 'INPUT_SHAPE' parameters\n",
        "\n",
        "cnn.add(tf.keras.layers.MaxPool2D(pool_size=2,strides=2))"
      ]
    },
    {
      "cell_type": "markdown",
      "metadata": {
        "id": "tmiEuvTunKfk"
      },
      "source": [
        "### Step 3 - Flattening"
      ]
    },
    {
      "cell_type": "code",
      "execution_count": 26,
      "metadata": {
        "id": "lCNWM_Gn1vkL"
      },
      "outputs": [],
      "source": [
        "cnn.add(tf.keras.layers.Flatten())"
      ]
    },
    {
      "cell_type": "markdown",
      "metadata": {
        "id": "dAoSECOm203v"
      },
      "source": [
        "### Step 4 - Full Connection"
      ]
    },
    {
      "cell_type": "code",
      "execution_count": 27,
      "metadata": {
        "id": "_qypb6iu2A4u"
      },
      "outputs": [],
      "source": [
        "#Add new fully connected layer to flattened layer\n",
        "\n",
        "cnn.add(tf.keras.layers.Dense(units=128,activation='relu')) #agora usaremos 128, computer vision + complexo,"
      ]
    },
    {
      "cell_type": "markdown",
      "metadata": {
        "id": "yTldFvbX28Na"
      },
      "source": [
        "### Step 5 - Output Layer"
      ]
    },
    {
      "cell_type": "code",
      "execution_count": 28,
      "metadata": {
        "id": "dcsrsx8o3BDu"
      },
      "outputs": [],
      "source": [
        "cnn.add(tf.keras.layers.Dense(units=1,activation='sigmoid'))"
      ]
    },
    {
      "cell_type": "markdown",
      "metadata": {
        "id": "D6XkI90snSDl"
      },
      "source": [
        "## Part 3 - Training the CNN"
      ]
    },
    {
      "cell_type": "markdown",
      "metadata": {
        "id": "vfrFQACEnc6i"
      },
      "source": [
        "### Compiling the CNN"
      ]
    },
    {
      "cell_type": "code",
      "execution_count": 29,
      "metadata": {
        "id": "DTSPNuK_7m8-"
      },
      "outputs": [],
      "source": [
        "cnn.compile(optimizer='adam',loss='binary_crossentropy',metrics=['accuracy'])"
      ]
    },
    {
      "cell_type": "markdown",
      "metadata": {
        "id": "ehS-v3MIpX2h"
      },
      "source": [
        "### Training the CNN on the Training set and evaluating it on the Test set"
      ]
    },
    {
      "cell_type": "code",
      "execution_count": 30,
      "metadata": {
        "id": "Y3JfvUHu7hRI"
      },
      "outputs": [
        {
          "name": "stdout",
          "output_type": "stream",
          "text": [
            "Epoch 1/25\n"
          ]
        },
        {
          "name": "stdout",
          "output_type": "stream",
          "text": [
            "250/250 [==============================] - 17s 68ms/step - loss: 0.6708 - accuracy: 0.5744 - val_loss: 0.6150 - val_accuracy: 0.6715\n",
            "Epoch 2/25\n",
            "250/250 [==============================] - 16s 65ms/step - loss: 0.6035 - accuracy: 0.6735 - val_loss: 0.5641 - val_accuracy: 0.7175\n",
            "Epoch 3/25\n",
            "250/250 [==============================] - 17s 67ms/step - loss: 0.5550 - accuracy: 0.7111 - val_loss: 0.5346 - val_accuracy: 0.7355\n",
            "Epoch 4/25\n",
            "250/250 [==============================] - 17s 67ms/step - loss: 0.5219 - accuracy: 0.7383 - val_loss: 0.5115 - val_accuracy: 0.7495\n",
            "Epoch 5/25\n",
            "250/250 [==============================] - 17s 68ms/step - loss: 0.4996 - accuracy: 0.7505 - val_loss: 0.4933 - val_accuracy: 0.7610\n",
            "Epoch 6/25\n",
            "250/250 [==============================] - 16s 65ms/step - loss: 0.4783 - accuracy: 0.7681 - val_loss: 0.4762 - val_accuracy: 0.7730\n",
            "Epoch 7/25\n",
            "250/250 [==============================] - 16s 65ms/step - loss: 0.4574 - accuracy: 0.7832 - val_loss: 0.4646 - val_accuracy: 0.7810\n",
            "Epoch 8/25\n",
            "250/250 [==============================] - 17s 69ms/step - loss: 0.4456 - accuracy: 0.7893 - val_loss: 0.4861 - val_accuracy: 0.7820\n",
            "Epoch 9/25\n",
            "250/250 [==============================] - 17s 67ms/step - loss: 0.4234 - accuracy: 0.8085 - val_loss: 0.5166 - val_accuracy: 0.7705\n",
            "Epoch 10/25\n",
            "250/250 [==============================] - 16s 65ms/step - loss: 0.4267 - accuracy: 0.8040 - val_loss: 0.4975 - val_accuracy: 0.7750\n",
            "Epoch 11/25\n",
            "250/250 [==============================] - 16s 63ms/step - loss: 0.4053 - accuracy: 0.8148 - val_loss: 0.4433 - val_accuracy: 0.8005\n",
            "Epoch 12/25\n",
            "250/250 [==============================] - 16s 62ms/step - loss: 0.3910 - accuracy: 0.8251 - val_loss: 0.5182 - val_accuracy: 0.7690\n",
            "Epoch 13/25\n",
            "250/250 [==============================] - 16s 63ms/step - loss: 0.3826 - accuracy: 0.8250 - val_loss: 0.4455 - val_accuracy: 0.8040\n",
            "Epoch 14/25\n",
            "250/250 [==============================] - 16s 63ms/step - loss: 0.3802 - accuracy: 0.8275 - val_loss: 0.4342 - val_accuracy: 0.8105\n",
            "Epoch 15/25\n",
            "250/250 [==============================] - 16s 64ms/step - loss: 0.3638 - accuracy: 0.8367 - val_loss: 0.4585 - val_accuracy: 0.8165\n",
            "Epoch 16/25\n",
            "250/250 [==============================] - 16s 63ms/step - loss: 0.3578 - accuracy: 0.8401 - val_loss: 0.4269 - val_accuracy: 0.8185\n",
            "Epoch 17/25\n",
            "250/250 [==============================] - 16s 63ms/step - loss: 0.3491 - accuracy: 0.8390 - val_loss: 0.4445 - val_accuracy: 0.8060\n",
            "Epoch 18/25\n",
            "250/250 [==============================] - 16s 63ms/step - loss: 0.3410 - accuracy: 0.8461 - val_loss: 0.4557 - val_accuracy: 0.8075\n",
            "Epoch 19/25\n",
            "250/250 [==============================] - 16s 63ms/step - loss: 0.3383 - accuracy: 0.8530 - val_loss: 0.4677 - val_accuracy: 0.8080\n",
            "Epoch 20/25\n",
            "250/250 [==============================] - 16s 63ms/step - loss: 0.3202 - accuracy: 0.8608 - val_loss: 0.4409 - val_accuracy: 0.8140\n",
            "Epoch 21/25\n",
            "250/250 [==============================] - 16s 63ms/step - loss: 0.3085 - accuracy: 0.8640 - val_loss: 0.4352 - val_accuracy: 0.8100\n",
            "Epoch 22/25\n",
            "250/250 [==============================] - 16s 63ms/step - loss: 0.2997 - accuracy: 0.8700 - val_loss: 0.4601 - val_accuracy: 0.8095\n",
            "Epoch 23/25\n",
            "250/250 [==============================] - 16s 63ms/step - loss: 0.2889 - accuracy: 0.8745 - val_loss: 0.4982 - val_accuracy: 0.7855\n",
            "Epoch 24/25\n",
            "250/250 [==============================] - 16s 64ms/step - loss: 0.2834 - accuracy: 0.8755 - val_loss: 0.5543 - val_accuracy: 0.7820\n",
            "Epoch 25/25\n",
            "250/250 [==============================] - 16s 65ms/step - loss: 0.2795 - accuracy: 0.8827 - val_loss: 0.4644 - val_accuracy: 0.8170\n"
          ]
        },
        {
          "data": {
            "text/plain": [
              "<keras.src.callbacks.History at 0x1d94e214690>"
            ]
          },
          "execution_count": 30,
          "metadata": {},
          "output_type": "execute_result"
        }
      ],
      "source": [
        "cnn.fit(x=training_set,validation_data = test_set,epochs=25)"
      ]
    },
    {
      "cell_type": "markdown",
      "metadata": {
        "id": "U3PZasO0006Z"
      },
      "source": [
        "## Part 4 - Making a single prediction"
      ]
    },
    {
      "cell_type": "code",
      "execution_count": 37,
      "metadata": {
        "id": "nWwTDBer9HDo"
      },
      "outputs": [
        {
          "name": "stdout",
          "output_type": "stream",
          "text": [
            "1/1 [==============================] - 0s 15ms/step\n"
          ]
        },
        {
          "data": {
            "text/plain": [
              "'dog'"
            ]
          },
          "metadata": {},
          "output_type": "display_data"
        }
      ],
      "source": [
        "from keras.preprocessing import image #módulo\n",
        "\n",
        "test_image = image.load_img('C:/Users/User/Downloads/dataset/cat_or_dog2.jpeg',target_size=(64,64))\n",
        "\n",
        "test_image = image.img_to_array(test_image)  ##img_to_array PIL to np array  # predict model 2 D array [[]]\n",
        "test_image = np.expand_dims(test_image, axis=0) #dimensão do batch seja a priemira dimensão\n",
        "\n",
        "\n",
        "#trained in batchs of images. extra dimension of the BATCH\n",
        "result = cnn.predict(test_image)\n",
        "\n",
        "training_set.class_indices #saber qual classe tem índice...\n",
        "\n",
        "if result[0][0] == 1:\n",
        "    display('dog')\n",
        "else:\n",
        "    display('cat')\n"
      ]
    },
    {
      "cell_type": "code",
      "execution_count": null,
      "metadata": {},
      "outputs": [],
      "source": []
    }
  ],
  "metadata": {
    "colab": {
      "provenance": []
    },
    "kernelspec": {
      "display_name": "Python 3",
      "name": "python3"
    },
    "language_info": {
      "codemirror_mode": {
        "name": "ipython",
        "version": 3
      },
      "file_extension": ".py",
      "mimetype": "text/x-python",
      "name": "python",
      "nbconvert_exporter": "python",
      "pygments_lexer": "ipython3",
      "version": "3.11.4"
    }
  },
  "nbformat": 4,
  "nbformat_minor": 0
}
